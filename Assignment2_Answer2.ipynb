{
 "cells": [
  {
   "cell_type": "markdown",
   "id": "77aadd1d-15a3-4c7a-b52d-ee3a40b99d52",
   "metadata": {},
   "source": [
    "Answer 2"
   ]
  },
  {
   "cell_type": "markdown",
   "id": "4e1671d3-2b27-45dd-90bd-6e75cf782ec9",
   "metadata": {},
   "source": [
    "What are variables in Python? How do you declare and assign values to variables?"
   ]
  },
  {
   "cell_type": "markdown",
   "id": "523df233-a348-45fb-a0ee-9f1f86543b07",
   "metadata": {},
   "source": [
    "In Python, variables are used to store data values. They act as containers that hold information which can be accessed and manipulated throughout the program. Variables can store various types of data, including numbers, strings, lists, or more complex objects.\n",
    "\n",
    "To declare and assign values to variables in Python, you can use the following syntax:"
   ]
  },
  {
   "cell_type": "code",
   "execution_count": 1,
   "id": "2073adde-cac5-497a-ae36-2ac32f398516",
   "metadata": {},
   "outputs": [],
   "source": [
    "first_var = 'Deva'"
   ]
  },
  {
   "cell_type": "code",
   "execution_count": 2,
   "id": "e82b1c8c-7f2e-404c-9908-3640133a3e99",
   "metadata": {},
   "outputs": [
    {
     "data": {
      "text/plain": [
       "'Deva'"
      ]
     },
     "execution_count": 2,
     "metadata": {},
     "output_type": "execute_result"
    }
   ],
   "source": [
    "first_var"
   ]
  },
  {
   "cell_type": "code",
   "execution_count": 3,
   "id": "fb378065-4577-4b8f-89bb-59582edcda59",
   "metadata": {},
   "outputs": [],
   "source": [
    "name = \"Deva\"\n",
    "age = 22\n",
    "height = 1.75\n",
    "is_student = True\n"
   ]
  },
  {
   "cell_type": "code",
   "execution_count": 4,
   "id": "83555e43-6dad-49da-b22f-cf40d2c60348",
   "metadata": {},
   "outputs": [
    {
     "data": {
      "text/plain": [
       "'Deva'"
      ]
     },
     "execution_count": 4,
     "metadata": {},
     "output_type": "execute_result"
    }
   ],
   "source": [
    "name"
   ]
  },
  {
   "cell_type": "code",
   "execution_count": 5,
   "id": "1ed19580-675a-4f24-ad6c-e5f7108c4ada",
   "metadata": {},
   "outputs": [
    {
     "data": {
      "text/plain": [
       "22"
      ]
     },
     "execution_count": 5,
     "metadata": {},
     "output_type": "execute_result"
    }
   ],
   "source": [
    "age"
   ]
  },
  {
   "cell_type": "code",
   "execution_count": 6,
   "id": "76d49fb6-1c47-40c8-b188-6d63a31d316e",
   "metadata": {},
   "outputs": [
    {
     "data": {
      "text/plain": [
       "1.75"
      ]
     },
     "execution_count": 6,
     "metadata": {},
     "output_type": "execute_result"
    }
   ],
   "source": [
    "height"
   ]
  },
  {
   "cell_type": "code",
   "execution_count": 8,
   "id": "f23e604e-8c53-43af-a42a-8bfd10e7c80f",
   "metadata": {},
   "outputs": [
    {
     "data": {
      "text/plain": [
       "True"
      ]
     },
     "execution_count": 8,
     "metadata": {},
     "output_type": "execute_result"
    }
   ],
   "source": [
    "is_student"
   ]
  },
  {
   "cell_type": "code",
   "execution_count": null,
   "id": "8add501f-318d-4822-877b-3d6213283848",
   "metadata": {},
   "outputs": [],
   "source": []
  }
 ],
 "metadata": {
  "kernelspec": {
   "display_name": "Python 3 (ipykernel)",
   "language": "python",
   "name": "python3"
  },
  "language_info": {
   "codemirror_mode": {
    "name": "ipython",
    "version": 3
   },
   "file_extension": ".py",
   "mimetype": "text/x-python",
   "name": "python",
   "nbconvert_exporter": "python",
   "pygments_lexer": "ipython3",
   "version": "3.10.8"
  }
 },
 "nbformat": 4,
 "nbformat_minor": 5
}
