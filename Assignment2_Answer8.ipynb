{
 "cells": [
  {
   "cell_type": "markdown",
   "id": "a30cd50e-a657-4f24-b413-c235b6efef25",
   "metadata": {},
   "source": [
    "Declare a variable named price and assign the value 9.99 to it. What data type does this variable belong to?"
   ]
  },
  {
   "cell_type": "code",
   "execution_count": 1,
   "id": "28a55ce6-1db4-47e5-9826-696d545b1838",
   "metadata": {},
   "outputs": [],
   "source": [
    "price=9.99"
   ]
  },
  {
   "cell_type": "code",
   "execution_count": 2,
   "id": "9a147c71-9771-4d41-bdad-5f8ec6d38fb9",
   "metadata": {},
   "outputs": [
    {
     "data": {
      "text/plain": [
       "float"
      ]
     },
     "execution_count": 2,
     "metadata": {},
     "output_type": "execute_result"
    }
   ],
   "source": [
    "type(price)"
   ]
  },
  {
   "cell_type": "markdown",
   "id": "10703a90-c119-44d3-9a41-cc73dfd2c4b8",
   "metadata": {},
   "source": [
    "variable named price belong to float data type."
   ]
  },
  {
   "cell_type": "code",
   "execution_count": null,
   "id": "9e405d37-0e4d-4840-b274-140642dead7d",
   "metadata": {},
   "outputs": [],
   "source": []
  }
 ],
 "metadata": {
  "kernelspec": {
   "display_name": "Python 3 (ipykernel)",
   "language": "python",
   "name": "python3"
  },
  "language_info": {
   "codemirror_mode": {
    "name": "ipython",
    "version": 3
   },
   "file_extension": ".py",
   "mimetype": "text/x-python",
   "name": "python",
   "nbconvert_exporter": "python",
   "pygments_lexer": "ipython3",
   "version": "3.10.8"
  }
 },
 "nbformat": 4,
 "nbformat_minor": 5
}
