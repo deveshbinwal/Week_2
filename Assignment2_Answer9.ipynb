{
 "cells": [
  {
   "cell_type": "markdown",
   "id": "b9116333-25ac-461a-ba7b-303317a7eceb",
   "metadata": {},
   "source": [
    "Create a variable named name and assign your full name to it as a string. How would you print the\n",
    "value of this variable?"
   ]
  },
  {
   "cell_type": "code",
   "execution_count": 1,
   "id": "e0b4591a-f84a-4473-a126-92bc50ad57fa",
   "metadata": {},
   "outputs": [],
   "source": [
    "name='Devesh Binwal'"
   ]
  },
  {
   "cell_type": "code",
   "execution_count": 2,
   "id": "4c219cea-0d01-426d-ad86-c032e515836e",
   "metadata": {},
   "outputs": [
    {
     "data": {
      "text/plain": [
       "'Devesh Binwal'"
      ]
     },
     "execution_count": 2,
     "metadata": {},
     "output_type": "execute_result"
    }
   ],
   "source": [
    "name"
   ]
  },
  {
   "cell_type": "code",
   "execution_count": 3,
   "id": "60c0c745-72e7-46da-8d6e-835afd5b4b94",
   "metadata": {},
   "outputs": [
    {
     "name": "stdout",
     "output_type": "stream",
     "text": [
      "My name is Devesh Binwal\n"
     ]
    }
   ],
   "source": [
    "print(\"My name is {}\".format(name))"
   ]
  },
  {
   "cell_type": "code",
   "execution_count": null,
   "id": "2e85a0ed-971e-4374-817d-df3da0752ab6",
   "metadata": {},
   "outputs": [],
   "source": []
  }
 ],
 "metadata": {
  "kernelspec": {
   "display_name": "Python 3 (ipykernel)",
   "language": "python",
   "name": "python3"
  },
  "language_info": {
   "codemirror_mode": {
    "name": "ipython",
    "version": 3
   },
   "file_extension": ".py",
   "mimetype": "text/x-python",
   "name": "python",
   "nbconvert_exporter": "python",
   "pygments_lexer": "ipython3",
   "version": "3.10.8"
  }
 },
 "nbformat": 4,
 "nbformat_minor": 5
}
