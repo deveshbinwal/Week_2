{
 "cells": [
  {
   "cell_type": "code",
   "execution_count": null,
   "id": "abc53069-b691-43e1-ae7b-7bd02b221597",
   "metadata": {},
   "outputs": [],
   "source": [
    "#Q1. How do you comment code in Python? What are the different types of comments?"
   ]
  },
  {
   "cell_type": "markdown",
   "id": "f01c756a-11ad-4a46-9ae4-3feee7a70253",
   "metadata": {},
   "source": [
    "Comments in Python is the inclusion of short descriptions along with the code to increase its readability. "
   ]
  },
  {
   "cell_type": "markdown",
   "id": "3d7fa4bf-3c22-4855-93fc-02705f92b6ad",
   "metadata": {},
   "source": [
    "#Comments in Python are identified with a hash symbol, #, and extend to the end of the line. Hash characters in a string are not considered comments, however. There are three ways to write a comment - as a separate line, beside the corresponding statement of code, or as a multi-line comment block."
   ]
  },
  {
   "cell_type": "markdown",
   "id": "d2ec71d4-3c79-4e04-b874-c4c2c7456943",
   "metadata": {},
   "source": [
    "Single line "
   ]
  },
  {
   "cell_type": "markdown",
   "id": "ab6626e3-f436-4c33-b397-848e5c84b0c6",
   "metadata": {},
   "source": [
    "Single-line comments begin with the \"#\" character. Anything that is written in a single line after ‘#’ is considered as a comment.\n"
   ]
  },
  {
   "cell_type": "code",
   "execution_count": 27,
   "id": "6eedb9bc-baec-4274-b48e-de1feb812a22",
   "metadata": {},
   "outputs": [],
   "source": [
    "#let's take an example of a dictionary\n",
    "details= {\n",
    "'name':'Deva', #name of the user\n",
    "'age':22, #age of the user\n",
    "'course':\"Master's in data science\" #course name \n",
    "}"
   ]
  },
  {
   "cell_type": "code",
   "execution_count": 28,
   "id": "f82abc83-89e1-4fb6-b641-2336b6209f40",
   "metadata": {},
   "outputs": [
    {
     "data": {
      "text/plain": [
       "{'name': 'Deva', 'age': 22, 'course': \"Master's in data science\"}"
      ]
     },
     "execution_count": 28,
     "metadata": {},
     "output_type": "execute_result"
    }
   ],
   "source": [
    "details"
   ]
  },
  {
   "cell_type": "markdown",
   "id": "cbd15f30-7a2a-4453-b408-635b3c0b587f",
   "metadata": {},
   "source": [
    "Multi-Line Comments"
   ]
  },
  {
   "cell_type": "markdown",
   "id": "8f5a1f6f-e435-49c6-9f85-8e9778dfe2ad",
   "metadata": {},
   "source": [
    "\n",
    "Python does not support multi-line comments. However, there are multiple ways to overcome this issue. None of these ways are technically multi-line comments, but you can use them as one. The first way is by using # at the beginning of each line of the comment."
   ]
  },
  {
   "cell_type": "code",
   "execution_count": 32,
   "id": "3df53372-2cee-4c0c-b476-a1f7fddf561a",
   "metadata": {},
   "outputs": [
    {
     "name": "stdout",
     "output_type": "stream",
     "text": [
      "that's how we make multiline comments in python\n"
     ]
    }
   ],
   "source": [
    "#let's write anything\n",
    "#I'm liking this course\n",
    "#and I'm sure that I'll be a data scientist\n",
    "print(\"that's how we make multiline comments in python\")"
   ]
  },
  {
   "cell_type": "code",
   "execution_count": 6,
   "id": "c5ccea41-f139-460e-afd0-e02d05dfe8a3",
   "metadata": {},
   "outputs": [
    {
     "name": "stdout",
     "output_type": "stream",
     "text": [
      "Multi-line comment\n"
     ]
    }
   ],
   "source": [
    "\"\"\"\n",
    "this is also a way of \n",
    "doing multiline comments\n",
    "\"\"\"\n",
    "print('Multi-line comment')"
   ]
  },
  {
   "cell_type": "code",
   "execution_count": null,
   "id": "0c20d17f-5879-40ef-9d7f-a308e487d3f5",
   "metadata": {},
   "outputs": [],
   "source": []
  }
 ],
 "metadata": {
  "kernelspec": {
   "display_name": "Python 3 (ipykernel)",
   "language": "python",
   "name": "python3"
  },
  "language_info": {
   "codemirror_mode": {
    "name": "ipython",
    "version": 3
   },
   "file_extension": ".py",
   "mimetype": "text/x-python",
   "name": "python",
   "nbconvert_exporter": "python",
   "pygments_lexer": "ipython3",
   "version": "3.10.8"
  }
 },
 "nbformat": 4,
 "nbformat_minor": 5
}
