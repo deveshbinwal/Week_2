{
 "cells": [
  {
   "cell_type": "markdown",
   "id": "1a784120-f8fe-4eb2-8df2-8360eaced714",
   "metadata": {},
   "source": [
    "Q11. Create a variable named \"is_student\" and assign it a boolean value indicating whether you are\n",
    "currently a student or not."
   ]
  },
  {
   "cell_type": "code",
   "execution_count": 13,
   "id": "d2abc9c6-45ee-4d9a-9432-6e93d4596de0",
   "metadata": {},
   "outputs": [],
   "source": [
    "is_student=True #I'm currently a student"
   ]
  },
  {
   "cell_type": "code",
   "execution_count": 14,
   "id": "1631f875-d635-44b8-9f63-9ab8f14c81ec",
   "metadata": {},
   "outputs": [
    {
     "name": "stdout",
     "output_type": "stream",
     "text": [
      "That's True that you are a student\n"
     ]
    }
   ],
   "source": [
    "print(\"That's {} that you are a student\".format(is_student))"
   ]
  },
  {
   "cell_type": "code",
   "execution_count": null,
   "id": "2ddb4ab0-1e38-48b9-b826-9c2fc355d16c",
   "metadata": {},
   "outputs": [],
   "source": []
  }
 ],
 "metadata": {
  "kernelspec": {
   "display_name": "Python 3 (ipykernel)",
   "language": "python",
   "name": "python3"
  },
  "language_info": {
   "codemirror_mode": {
    "name": "ipython",
    "version": 3
   },
   "file_extension": ".py",
   "mimetype": "text/x-python",
   "name": "python",
   "nbconvert_exporter": "python",
   "pygments_lexer": "ipython3",
   "version": "3.10.8"
  }
 },
 "nbformat": 4,
 "nbformat_minor": 5
}
