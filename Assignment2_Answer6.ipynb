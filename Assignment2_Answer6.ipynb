{
 "cells": [
  {
   "cell_type": "markdown",
   "id": "b703f677-96b5-4194-9073-d70e1863670b",
   "metadata": {},
   "source": [
    "Q6. What is a complex number in mathematics, and how is it represented in Python?"
   ]
  },
  {
   "cell_type": "markdown",
   "id": "a502fe7b-9431-43e7-adde-5766a5763e57",
   "metadata": {},
   "source": [
    "Complex numbers are created from two real numbers. You can create it directly or you can use the complex function. It is written in the form of (x + yj) where x and y are real numbers and j is an imaginary number which is the square root of -1."
   ]
  },
  {
   "cell_type": "code",
   "execution_count": 1,
   "id": "5c053b19-b1e1-4dc6-929e-d40f0fdd06cf",
   "metadata": {},
   "outputs": [],
   "source": [
    "y=3+7j"
   ]
  },
  {
   "cell_type": "code",
   "execution_count": 2,
   "id": "b3a1aaf0-a99f-4b08-8b35-fd6f2f03d8f6",
   "metadata": {},
   "outputs": [
    {
     "data": {
      "text/plain": [
       "complex"
      ]
     },
     "execution_count": 2,
     "metadata": {},
     "output_type": "execute_result"
    }
   ],
   "source": [
    "type(y)"
   ]
  },
  {
   "cell_type": "code",
   "execution_count": null,
   "id": "e57e40eb-19cf-4f06-a9fe-c2ff0e648b4a",
   "metadata": {},
   "outputs": [],
   "source": []
  }
 ],
 "metadata": {
  "kernelspec": {
   "display_name": "Python 3 (ipykernel)",
   "language": "python",
   "name": "python3"
  },
  "language_info": {
   "codemirror_mode": {
    "name": "ipython",
    "version": 3
   },
   "file_extension": ".py",
   "mimetype": "text/x-python",
   "name": "python",
   "nbconvert_exporter": "python",
   "pygments_lexer": "ipython3",
   "version": "3.10.8"
  }
 },
 "nbformat": 4,
 "nbformat_minor": 5
}
