{
 "cells": [
  {
   "cell_type": "markdown",
   "id": "336b0d81-313f-48f3-9461-c673843cf99b",
   "metadata": {},
   "source": [
    "Answer 3"
   ]
  },
  {
   "cell_type": "markdown",
   "id": "e8c4a568-f66c-4e1e-a5fc-2d9d4d93afeb",
   "metadata": {},
   "source": [
    "How do you convert one data type to another in Python?"
   ]
  },
  {
   "cell_type": "code",
   "execution_count": 1,
   "id": "340b5985-723d-4c79-8775-210351719266",
   "metadata": {},
   "outputs": [],
   "source": [
    "num=10\n"
   ]
  },
  {
   "cell_type": "code",
   "execution_count": 4,
   "id": "c56483d7-bfb8-4689-82d2-c0cda6508f9a",
   "metadata": {},
   "outputs": [],
   "source": [
    "num_1=float(num)"
   ]
  },
  {
   "cell_type": "code",
   "execution_count": 5,
   "id": "bc01b855-4f27-47ea-be16-ad6546d1fd29",
   "metadata": {},
   "outputs": [
    {
     "data": {
      "text/plain": [
       "10.0"
      ]
     },
     "execution_count": 5,
     "metadata": {},
     "output_type": "execute_result"
    }
   ],
   "source": [
    "num_1"
   ]
  },
  {
   "cell_type": "code",
   "execution_count": 6,
   "id": "ee68c481-13bd-4259-bd49-d72087a513a0",
   "metadata": {},
   "outputs": [],
   "source": [
    "a=123"
   ]
  },
  {
   "cell_type": "code",
   "execution_count": 7,
   "id": "eb9ce2f4-42bc-4c35-b56b-dacaf0925403",
   "metadata": {},
   "outputs": [],
   "source": [
    "aa=str(a)"
   ]
  },
  {
   "cell_type": "code",
   "execution_count": 8,
   "id": "f32e305a-c63c-48d2-abec-223448ea5e2c",
   "metadata": {},
   "outputs": [
    {
     "data": {
      "text/plain": [
       "'123'"
      ]
     },
     "execution_count": 8,
     "metadata": {},
     "output_type": "execute_result"
    }
   ],
   "source": [
    "aa"
   ]
  },
  {
   "cell_type": "code",
   "execution_count": 1,
   "id": "64c1d334-636c-4d3d-aa0a-2f1b967208a6",
   "metadata": {},
   "outputs": [
    {
     "name": "stdout",
     "output_type": "stream",
     "text": [
      "I am 25 years old.\n",
      "My name is John.\n"
     ]
    }
   ],
   "source": [
    "age = 25\n",
    "age_str = \"I am \" + str(age) + \" years old.\"\n",
    "print(age_str)  # Output: \"I am 25 years old.\"\n",
    "\n",
    "name = \"John\"\n",
    "message = f\"My name is {name}.\"\n",
    "print(message)  # Output: \"My name is John.\"\n"
   ]
  },
  {
   "cell_type": "code",
   "execution_count": null,
   "id": "5af63156-a7b9-489c-a8fe-743a05db48ca",
   "metadata": {},
   "outputs": [],
   "source": []
  }
 ],
 "metadata": {
  "kernelspec": {
   "display_name": "Python 3 (ipykernel)",
   "language": "python",
   "name": "python3"
  },
  "language_info": {
   "codemirror_mode": {
    "name": "ipython",
    "version": 3
   },
   "file_extension": ".py",
   "mimetype": "text/x-python",
   "name": "python",
   "nbconvert_exporter": "python",
   "pygments_lexer": "ipython3",
   "version": "3.10.8"
  }
 },
 "nbformat": 4,
 "nbformat_minor": 5
}
